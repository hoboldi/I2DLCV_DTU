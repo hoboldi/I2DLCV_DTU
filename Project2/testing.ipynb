{
 "cells": [
  {
   "cell_type": "code",
   "execution_count": null,
   "id": "d134f8b5",
   "metadata": {},
   "outputs": [
    {
     "name": "stdout",
     "output_type": "stream",
     "text": [
      "Loaded object type: <class 'numpy.ndarray'>\n",
      "shape: (2, 224, 224)\n",
      "dtype: float32\n",
      "first elements (raveled): [20.591543 21.102818 21.373842 21.391172 21.3717   21.339407 21.301617\n",
      " 21.343502 21.330341 21.36973 ]\n"
     ]
    }
   ],
   "source": [
    "import numpy as np\n",
    "\n",
    "path = '/Users/kaspervanderhorst/Downloads/flow_8_9.npy'\n",
    "# now load this data and show what's in it\n",
    "\n",
    "try:\n",
    "\tdata = np.load(path, allow_pickle=True)\n",
    "except FileNotFoundError:\n",
    "\traise FileNotFoundError(f\"File not found: {path}\")\n",
    "except Exception as e:\n",
    "\traise RuntimeError(f\"Failed to load .npy file: {e}\") from e\n",
    "\n",
    "print(\"Loaded object type:\", type(data))\n",
    "if isinstance(data, np.ndarray):\n",
    "\tprint(\"shape:\", data.shape)\n",
    "\tprint(\"dtype:\", data.dtype)\n",
    "\t# show a small preview (raveled to handle multi-dim arrays)\n",
    "\tpreview = data.ravel()[:10]\n",
    "\tprint(\"first elements (raveled):\", preview)\n",
    "else:\n",
    "\t# np.load can return other objects if pickled; show a short repr\n",
    "\tprint(\"repr:\", repr(data)[:500])\n",
    "\n"
   ]
  },
  {
   "cell_type": "code",
   "execution_count": null,
   "id": "cc31a6d4",
   "metadata": {},
   "outputs": [],
   "source": []
  }
 ],
 "metadata": {
  "kernelspec": {
   "display_name": "base",
   "language": "python",
   "name": "python3"
  },
  "language_info": {
   "codemirror_mode": {
    "name": "ipython",
    "version": 3
   },
   "file_extension": ".py",
   "mimetype": "text/x-python",
   "name": "python",
   "nbconvert_exporter": "python",
   "pygments_lexer": "ipython3",
   "version": "3.12.10"
  }
 },
 "nbformat": 4,
 "nbformat_minor": 5
}
